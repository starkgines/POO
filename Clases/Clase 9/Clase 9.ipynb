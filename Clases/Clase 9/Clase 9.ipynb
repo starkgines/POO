{
 "cells": [
  {
   "cell_type": "markdown",
   "metadata": {},
   "source": [
    "### Manejo de archivo y estructura de datos en python"
   ]
  },
  {
   "cell_type": "markdown",
   "metadata": {},
   "source": [
    "#### Estructura PILA\n",
    "\n",
    "![Esta es una imagen de ejemplo](https://3.bp.blogspot.com/-X3YP3VCerRg/W9rp14UrRQI/AAAAAAAASJY/4fBmVWo8cEggt9EBOY_qY7dTeU-UP5dzACLcBGAs/s1600/FIFOLIFO.jpg)"
   ]
  },
  {
   "cell_type": "code",
   "execution_count": 1,
   "metadata": {},
   "outputs": [],
   "source": [
    "class Pila:\n",
    "    def __init__(self):\n",
    "        # La cola vacía se representa por una lista vacía\n",
    "        self.items=[] # EN EL CONSTRUCTOR AL INICIAR LA COLA ESTA VACIA. \n",
    "        \n",
    "    def agregar(self,element):\n",
    "        self.items.append(element)\n",
    "    \n",
    "    def eliminar(self):\n",
    "        try:\n",
    "            return self.items.pop(-1) # Retorna el primer valor del vector\n",
    "        except:\n",
    "            return \"La cola está vacía\"\n",
    "    def es_vacia(self):\n",
    "        return self.items == []\n",
    "    \n",
    "    "
   ]
  },
  {
   "cell_type": "markdown",
   "metadata": {},
   "source": [
    "#### Ejercicio\n",
    "\n",
    "##### Utilizar la estructura pila para emular la entrada de caracteres dentro del documento de texto con las funciones de cargar palabra dentro de la pila, asi como backspace que borraria un elemento de la pila.\n",
    "##### Clases Necesarias: \n",
    "- Pila\n",
    "- Teclado\n",
    "    - Atributos\n",
    "        - Entrada : Pila\n",
    "        - UltimaEntrada: string\n",
    "    - Métodos\n",
    "        - IngresarPalabra\n",
    "        - Backspace\n",
    "- Documento\n",
    "    - Atributos\n",
    "        - Hoja: Arrays\n",
    "        - Nombre: string\n",
    "    - Métodos:\n",
    "        - CrearDocumento: Crea un Txt vacio\n",
    "        - Escribir(string): Escribe la palabra dentro del TxT\n",
    "        - "
   ]
  },
  {
   "cell_type": "code",
   "execution_count": 2,
   "metadata": {},
   "outputs": [],
   "source": [
    "x = [1,2,3,4,5]"
   ]
  },
  {
   "cell_type": "code",
   "execution_count": 3,
   "metadata": {},
   "outputs": [
    {
     "data": {
      "text/plain": [
       "[1, 2, 3, 4, 5]"
      ]
     },
     "execution_count": 3,
     "metadata": {},
     "output_type": "execute_result"
    }
   ],
   "source": [
    "x"
   ]
  },
  {
   "cell_type": "code",
   "execution_count": 4,
   "metadata": {},
   "outputs": [
    {
     "data": {
      "text/plain": [
       "5"
      ]
     },
     "execution_count": 4,
     "metadata": {},
     "output_type": "execute_result"
    }
   ],
   "source": [
    "x.pop(-1)"
   ]
  },
  {
   "cell_type": "code",
   "execution_count": 8,
   "metadata": {},
   "outputs": [],
   "source": [
    "x.append(12)"
   ]
  },
  {
   "cell_type": "code",
   "execution_count": 9,
   "metadata": {},
   "outputs": [
    {
     "data": {
      "text/plain": [
       "[1, 2, 3, 4, 12]"
      ]
     },
     "execution_count": 9,
     "metadata": {},
     "output_type": "execute_result"
    }
   ],
   "source": [
    "x"
   ]
  },
  {
   "cell_type": "code",
   "execution_count": 10,
   "metadata": {},
   "outputs": [
    {
     "data": {
      "text/plain": [
       "12"
      ]
     },
     "execution_count": 10,
     "metadata": {},
     "output_type": "execute_result"
    }
   ],
   "source": [
    "x.pop(-1)"
   ]
  },
  {
   "cell_type": "code",
   "execution_count": null,
   "metadata": {},
   "outputs": [],
   "source": []
  }
 ],
 "metadata": {
  "kernelspec": {
   "display_name": "Python 3",
   "language": "python",
   "name": "python3"
  },
  "language_info": {
   "codemirror_mode": {
    "name": "ipython",
    "version": 3
   },
   "file_extension": ".py",
   "mimetype": "text/x-python",
   "name": "python",
   "nbconvert_exporter": "python",
   "pygments_lexer": "ipython3",
   "version": "3.8.5"
  }
 },
 "nbformat": 4,
 "nbformat_minor": 4
}
