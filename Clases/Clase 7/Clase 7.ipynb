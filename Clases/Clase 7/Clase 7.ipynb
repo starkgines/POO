{
 "cells": [
  {
   "cell_type": "markdown",
   "metadata": {},
   "source": [
    "# Clase 7 POO Python"
   ]
  },
  {
   "cell_type": "markdown",
   "metadata": {},
   "source": [
    "En esta sección vamos a estudiar los pasos basicos para ir armando las estructuras necesarias para las siguientes clases. "
   ]
  },
  {
   "cell_type": "markdown",
   "metadata": {},
   "source": [
    "## Arrays / List"
   ]
  },
  {
   "cell_type": "code",
   "execution_count": 10,
   "metadata": {},
   "outputs": [],
   "source": [
    "elements = [\"Element1\", \"Element2\", \"Element3\",\"Elemento4\"]"
   ]
  },
  {
   "cell_type": "code",
   "execution_count": 11,
   "metadata": {},
   "outputs": [
    {
     "data": {
      "text/plain": [
       "'Element1'"
      ]
     },
     "execution_count": 11,
     "metadata": {},
     "output_type": "execute_result"
    }
   ],
   "source": [
    "# Acceder a sus diferentes elementos\n",
    "elements[0] # Posición 0 "
   ]
  },
  {
   "cell_type": "code",
   "execution_count": 12,
   "metadata": {},
   "outputs": [
    {
     "name": "stdout",
     "output_type": "stream",
     "text": [
      "For clasico, item por item\n",
      "\n",
      "\n",
      "item Element1\n",
      "item Element2\n",
      "item Element3\n",
      "item Elemento4\n",
      "\n",
      "\n",
      "For Enumerate, item por item \n",
      "\n",
      "\n",
      "item Element1\n",
      "i 0\n",
      "item Element2\n",
      "i 1\n",
      "item Element3\n",
      "i 2\n",
      "item Elemento4\n",
      "i 3\n"
     ]
    }
   ],
   "source": [
    "# Realizar un loop por sus elementos\n",
    "print(\"For clasico, item por item\\n\\n\")\n",
    "for item in elements:\n",
    "    print(\"item\",item)\n",
    "print(\"\\n\\nFor Enumerate, item por item \\n\\n\")\n",
    "for i,item in enumerate(elements):\n",
    "    print(\"item\",item)\n",
    "    print(\"i\",i)\n"
   ]
  },
  {
   "cell_type": "code",
   "execution_count": 13,
   "metadata": {},
   "outputs": [
    {
     "data": {
      "text/plain": [
       "['Element1', 'Element2', 'Element3', 'Elemento4']"
      ]
     },
     "execution_count": 13,
     "metadata": {},
     "output_type": "execute_result"
    }
   ],
   "source": [
    "elements"
   ]
  },
  {
   "cell_type": "code",
   "execution_count": 14,
   "metadata": {},
   "outputs": [],
   "source": [
    "description = [\"uno\",\"dos\",\"tres\",\"cuatro\"]"
   ]
  },
  {
   "cell_type": "code",
   "execution_count": 15,
   "metadata": {},
   "outputs": [
    {
     "data": {
      "text/plain": [
       "['uno', 'dos', 'tres', 'cuatro']"
      ]
     },
     "execution_count": 15,
     "metadata": {},
     "output_type": "execute_result"
    }
   ],
   "source": [
    "description"
   ]
  },
  {
   "cell_type": "code",
   "execution_count": 21,
   "metadata": {},
   "outputs": [
    {
     "name": "stdout",
     "output_type": "stream",
     "text": [
      "item Element1\n",
      "item Element2\n",
      "item Element3\n",
      "item Elemento4\n"
     ]
    }
   ],
   "source": [
    "zipped = zip(elements,description) # el resultado NO ES UN ARRAY \n",
    "for x in zipped:\n",
    "    print(\"item\",x) # X SI ES UN ARRAY (UNA LISTA ESPECIFICAMENTE)"
   ]
  },
  {
   "cell_type": "code",
   "execution_count": 22,
   "metadata": {},
   "outputs": [
    {
     "data": {
      "text/plain": [
       "<zip at 0x12f43e7b980>"
      ]
     },
     "execution_count": 22,
     "metadata": {},
     "output_type": "execute_result"
    }
   ],
   "source": [
    "zipped"
   ]
  },
  {
   "cell_type": "markdown",
   "metadata": {},
   "source": [
    "####  Adding Array Elements"
   ]
  },
  {
   "cell_type": "code",
   "execution_count": 27,
   "metadata": {},
   "outputs": [],
   "source": [
    "elements = [\"Element1\", \"Element2\", \"Element3\",\"Elemento4\"]"
   ]
  },
  {
   "cell_type": "code",
   "execution_count": 28,
   "metadata": {},
   "outputs": [],
   "source": [
    "elements.append(\"NuevoElemento\")"
   ]
  },
  {
   "cell_type": "code",
   "execution_count": 29,
   "metadata": {},
   "outputs": [
    {
     "data": {
      "text/plain": [
       "['Element1', 'Element2', 'Element3', 'Elemento4', 'NuevoElemento']"
      ]
     },
     "execution_count": 29,
     "metadata": {},
     "output_type": "execute_result"
    }
   ],
   "source": [
    "elements"
   ]
  },
  {
   "cell_type": "markdown",
   "metadata": {},
   "source": [
    "#### Removing Array Elements"
   ]
  },
  {
   "cell_type": "code",
   "execution_count": 31,
   "metadata": {},
   "outputs": [
    {
     "data": {
      "text/plain": [
       "'Element1'"
      ]
     },
     "execution_count": 31,
     "metadata": {},
     "output_type": "execute_result"
    }
   ],
   "source": [
    "elements.pop(0)"
   ]
  },
  {
   "cell_type": "code",
   "execution_count": 32,
   "metadata": {},
   "outputs": [
    {
     "data": {
      "text/plain": [
       "['Element2', 'Element3', 'Elemento4']"
      ]
     },
     "execution_count": 32,
     "metadata": {},
     "output_type": "execute_result"
    }
   ],
   "source": [
    "elements"
   ]
  },
  {
   "cell_type": "code",
   "execution_count": 33,
   "metadata": {},
   "outputs": [],
   "source": [
    "elements.remove('Element2')"
   ]
  },
  {
   "cell_type": "code",
   "execution_count": 34,
   "metadata": {},
   "outputs": [
    {
     "data": {
      "text/plain": [
       "['Element3', 'Elemento4']"
      ]
     },
     "execution_count": 34,
     "metadata": {},
     "output_type": "execute_result"
    }
   ],
   "source": [
    "elements"
   ]
  },
  {
   "cell_type": "markdown",
   "metadata": {},
   "source": [
    "#### Editing Array Elements"
   ]
  },
  {
   "cell_type": "code",
   "execution_count": 36,
   "metadata": {},
   "outputs": [
    {
     "data": {
      "text/plain": [
       "2"
      ]
     },
     "execution_count": 36,
     "metadata": {},
     "output_type": "execute_result"
    }
   ],
   "source": [
    "#               0          1            2          3\n",
    "elements = [\"Element1\", \"Element2\", \"Element3\",\"Element4\"]\n",
    "idx = elements.index('Element3')\n",
    "idx"
   ]
  },
  {
   "cell_type": "code",
   "execution_count": 37,
   "metadata": {},
   "outputs": [
    {
     "data": {
      "text/plain": [
       "['Element1', 'Element2', 'ElementoEditado', 'Element4']"
      ]
     },
     "execution_count": 37,
     "metadata": {},
     "output_type": "execute_result"
    }
   ],
   "source": [
    "# Como puedo editar un array a partir de su posición\n",
    "elements[idx] = \"ElementoEditado\"\n",
    "elements"
   ]
  },
  {
   "cell_type": "markdown",
   "metadata": {},
   "source": [
    "## Dictionary"
   ]
  },
  {
   "cell_type": "code",
   "execution_count": 48,
   "metadata": {},
   "outputs": [],
   "source": [
    "# Una de las formas mas utilizadas en la vida real para guardar datos realacionados a ciertos eventos o lecturas de base de datos\n",
    "thisdict = {\n",
    "  \"brand\": \"Ford\",\n",
    "  \"model\": \"Mustang\",\n",
    "  \"year\": 1964\n",
    "}"
   ]
  },
  {
   "cell_type": "code",
   "execution_count": 39,
   "metadata": {},
   "outputs": [
    {
     "data": {
      "text/plain": [
       "{'brand': 'Ford', 'model': 'Mustang', 'year': 1964}"
      ]
     },
     "execution_count": 39,
     "metadata": {},
     "output_type": "execute_result"
    }
   ],
   "source": [
    "thisdict"
   ]
  },
  {
   "cell_type": "code",
   "execution_count": 47,
   "metadata": {},
   "outputs": [
    {
     "data": {
      "text/plain": [
       "dict_keys(['brand', 'model', 'year'])"
      ]
     },
     "execution_count": 47,
     "metadata": {},
     "output_type": "execute_result"
    }
   ],
   "source": [
    "thisdict.keys()"
   ]
  },
  {
   "cell_type": "code",
   "execution_count": 49,
   "metadata": {},
   "outputs": [],
   "source": [
    "thisdict['year']=1900"
   ]
  },
  {
   "cell_type": "code",
   "execution_count": 50,
   "metadata": {},
   "outputs": [
    {
     "data": {
      "text/plain": [
       "{'brand': 'Ford', 'model': 'Mustang', 'year': 1900}"
      ]
     },
     "execution_count": 50,
     "metadata": {},
     "output_type": "execute_result"
    }
   ],
   "source": [
    "thisdict"
   ]
  },
  {
   "cell_type": "markdown",
   "metadata": {},
   "source": [
    "####  Adding Elements Dictionary"
   ]
  },
  {
   "cell_type": "code",
   "execution_count": 64,
   "metadata": {},
   "outputs": [
    {
     "data": {
      "text/plain": [
       "{'brand': 'Ford',\n",
       " 'model': 'Mustang',\n",
       " 'year': 1900,\n",
       " 'color': 'red',\n",
       " 'Test': 'Esto es lo que se guarda en prueba'}"
      ]
     },
     "execution_count": 64,
     "metadata": {},
     "output_type": "execute_result"
    }
   ],
   "source": [
    "thisdict['Test'] = \"Esto es lo que se guarda en prueba\"\n",
    "thisdict"
   ]
  },
  {
   "cell_type": "code",
   "execution_count": 65,
   "metadata": {},
   "outputs": [
    {
     "data": {
      "text/plain": [
       "{'brand': 'Ford',\n",
       " 'model': 'Mustang',\n",
       " 'year': 1900,\n",
       " 'color': 'red',\n",
       " 'Test': 'Esto es lo que se guarda en prueba'}"
      ]
     },
     "execution_count": 65,
     "metadata": {},
     "output_type": "execute_result"
    }
   ],
   "source": [
    "thisdict.update({\"color\": \"red\"})\n",
    "thisdict"
   ]
  },
  {
   "cell_type": "markdown",
   "metadata": {},
   "source": [
    "#### Removing Elements Dictionary"
   ]
  },
  {
   "cell_type": "code",
   "execution_count": 66,
   "metadata": {},
   "outputs": [
    {
     "data": {
      "text/plain": [
       "'Esto es lo que se guarda en prueba'"
      ]
     },
     "execution_count": 66,
     "metadata": {},
     "output_type": "execute_result"
    }
   ],
   "source": [
    "thisdict.pop(\"Test\")"
   ]
  },
  {
   "cell_type": "code",
   "execution_count": 67,
   "metadata": {},
   "outputs": [
    {
     "data": {
      "text/plain": [
       "{'brand': 'Ford', 'model': 'Mustang', 'year': 1900, 'color': 'red'}"
      ]
     },
     "execution_count": 67,
     "metadata": {},
     "output_type": "execute_result"
    }
   ],
   "source": [
    "thisdict"
   ]
  },
  {
   "cell_type": "markdown",
   "metadata": {},
   "source": [
    "## Lectura de archivo txt"
   ]
  },
  {
   "cell_type": "code",
   "execution_count": 69,
   "metadata": {},
   "outputs": [
    {
     "data": {
      "text/plain": [
       "{'brand': 'Ford', 'model': 'Mustang', 'year': 1900, 'color': 'red'}"
      ]
     },
     "execution_count": 69,
     "metadata": {},
     "output_type": "execute_result"
    }
   ],
   "source": [
    "thisdict"
   ]
  },
  {
   "cell_type": "markdown",
   "metadata": {},
   "source": [
    "#### Parametros utilizados para la lectura del archivo "
   ]
  },
  {
   "cell_type": "markdown",
   "metadata": {},
   "source": [
    "\"r\" - Read - Default value. Opens a file for reading, error if the file does not exist\n",
    "\n",
    "\"a\" - Append - Opens a file for appending, creates the file if it does not exist\n",
    "\n",
    "\"w\" - Write - Opens a file for writing, creates the file if it does not exist\n",
    "\n",
    "\"x\" - Create - Creates the specified file, returns an error if the file exist"
   ]
  },
  {
   "cell_type": "markdown",
   "metadata": {},
   "source": [
    "#### Guardar un txt"
   ]
  },
  {
   "cell_type": "code",
   "execution_count": 79,
   "metadata": {},
   "outputs": [],
   "source": [
    "f = open ('miPrimerArchivo.txt','w')\n",
    "f.write('hola mundo')\n",
    "f.close()"
   ]
  },
  {
   "cell_type": "code",
   "execution_count": 80,
   "metadata": {},
   "outputs": [
    {
     "data": {
      "text/plain": [
       "'hola mundo'"
      ]
     },
     "execution_count": 80,
     "metadata": {},
     "output_type": "execute_result"
    }
   ],
   "source": [
    "with open('miPrimerArchivo.txt', 'r') as f:\n",
    "    data = f.read()\n",
    "data"
   ]
  },
  {
   "cell_type": "markdown",
   "metadata": {},
   "source": [
    "#### Guardar un json (dict) "
   ]
  },
  {
   "cell_type": "code",
   "execution_count": 74,
   "metadata": {},
   "outputs": [],
   "source": [
    "import json\n",
    "f = open ('miPrimerArchivo.json','w')\n",
    "json.dump(thisdict, f )\n",
    "f.close()"
   ]
  },
  {
   "cell_type": "code",
   "execution_count": 75,
   "metadata": {},
   "outputs": [],
   "source": [
    "with open('miPrimerArchivo.json', 'r') as fp:\n",
    "    data = json.load(fp)"
   ]
  },
  {
   "cell_type": "code",
   "execution_count": 76,
   "metadata": {},
   "outputs": [
    {
     "data": {
      "text/plain": [
       "{'brand': 'Ford', 'model': 'Mustang', 'year': 1900, 'color': 'red'}"
      ]
     },
     "execution_count": 76,
     "metadata": {},
     "output_type": "execute_result"
    }
   ],
   "source": [
    "data"
   ]
  },
  {
   "cell_type": "markdown",
   "metadata": {},
   "source": [
    "## Instalación pandas"
   ]
  },
  {
   "cell_type": "code",
   "execution_count": 81,
   "metadata": {},
   "outputs": [],
   "source": [
    "import pandas as pd ### pip install pandas "
   ]
  },
  {
   "cell_type": "markdown",
   "metadata": {},
   "source": [
    "#### Como se utiliza pandas ? "
   ]
  },
  {
   "cell_type": "code",
   "execution_count": 84,
   "metadata": {},
   "outputs": [
    {
     "name": "stdout",
     "output_type": "stream",
     "text": [
      "   calories  duration\n",
      "0       420        50\n",
      "1       380        40\n",
      "2       390        45\n"
     ]
    }
   ],
   "source": [
    "# Como crear un dataframe\n",
    "data = {\n",
    "  \"calories\": [420, 380, 390],\n",
    "  \"duration\": [50, 40, 45]\n",
    "}\n",
    "\n",
    "#load data into a DataFrame object:\n",
    "df = pd.DataFrame(data)\n",
    "\n",
    "print(df) "
   ]
  },
  {
   "cell_type": "code",
   "execution_count": 87,
   "metadata": {},
   "outputs": [
    {
     "name": "stdout",
     "output_type": "stream",
     "text": [
      "calories    420\n",
      "duration     50\n",
      "Name: 0, dtype: int64\n"
     ]
    }
   ],
   "source": [
    "print(df.loc[0]) # Datos de cada una de las columnas indexadas"
   ]
  },
  {
   "cell_type": "code",
   "execution_count": 88,
   "metadata": {},
   "outputs": [
    {
     "name": "stdout",
     "output_type": "stream",
     "text": [
      "   calories  duration\n",
      "0       420        50\n",
      "1       380        40\n"
     ]
    }
   ],
   "source": [
    "print(df.loc[[0, 1]])"
   ]
  },
  {
   "cell_type": "code",
   "execution_count": 89,
   "metadata": {},
   "outputs": [
    {
     "name": "stdout",
     "output_type": "stream",
     "text": [
      "     Duration  Pulse  Maxpulse  Calories\n",
      "0          60    110       130     409.1\n",
      "1          60    117       145     479.0\n",
      "2          60    103       135     340.0\n",
      "3          45    109       175     282.4\n",
      "4          45    117       148     406.0\n",
      "5          60    102       127     300.0\n",
      "6          60    110       136     374.0\n",
      "7          45    104       134     253.3\n",
      "8          30    109       133     195.1\n",
      "9          60     98       124     269.0\n",
      "10         60    103       147     329.3\n",
      "11         60    100       120     250.7\n",
      "12         60    106       128     345.3\n",
      "13         60    104       132     379.3\n",
      "14         60     98       123     275.0\n",
      "15         60     98       120     215.2\n",
      "16         60    100       120     300.0\n",
      "17         45     90       112       NaN\n",
      "18         60    103       123     323.0\n",
      "19         45     97       125     243.0\n",
      "20         60    108       131     364.2\n",
      "21         45    100       119     282.0\n",
      "22         60    130       101     300.0\n",
      "23         45    105       132     246.0\n",
      "24         60    102       126     334.5\n",
      "25         60    100       120     250.0\n",
      "26         60     92       118     241.0\n",
      "27         60    103       132       NaN\n",
      "28         60    100       132     280.0\n",
      "29         60    102       129     380.3\n",
      "30         60     92       115     243.0\n",
      "31         45     90       112     180.1\n",
      "32         60    101       124     299.0\n",
      "33         60     93       113     223.0\n",
      "34         60    107       136     361.0\n",
      "35         60    114       140     415.0\n",
      "36         60    102       127     300.0\n",
      "37         60    100       120     300.0\n",
      "38         60    100       120     300.0\n",
      "39         45    104       129     266.0\n",
      "40         45     90       112     180.1\n",
      "41         60     98       126     286.0\n",
      "42         60    100       122     329.4\n",
      "43         60    111       138     400.0\n",
      "44         60    111       131     397.0\n",
      "45         60     99       119     273.0\n",
      "46         60    109       153     387.6\n",
      "47         45    111       136     300.0\n",
      "48         45    108       129     298.0\n",
      "49         60    111       139     397.6\n",
      "50         60    107       136     380.2\n",
      "51         80    123       146     643.1\n",
      "52         60    106       130     263.0\n",
      "53         60    118       151     486.0\n",
      "54         30    136       175     238.0\n",
      "55         60    121       146     450.7\n",
      "56         60    118       121     413.0\n",
      "57         45    115       144     305.0\n",
      "58         20    153       172     226.4\n",
      "59         45    123       152     321.0\n",
      "60        210    108       160    1376.0\n",
      "61        160    110       137    1034.4\n",
      "62        160    109       135     853.0\n",
      "63         45    118       141     341.0\n",
      "64         20    110       130     131.4\n",
      "65        180     90       130     800.4\n",
      "66        150    105       135     873.4\n",
      "67        150    107       130     816.0\n",
      "68         20    106       136     110.4\n",
      "69        300    108       143    1500.2\n",
      "70        150     97       129    1115.0\n",
      "71         60    109       153     387.6\n",
      "72         90    100       127     700.0\n",
      "73        150     97       127     953.2\n",
      "74         45    114       146     304.0\n",
      "75         90     98       125     563.2\n",
      "76         45    105       134     251.0\n",
      "77         45    110       141     300.0\n",
      "78        120    100       130     500.4\n",
      "79        270    100       131    1729.0\n",
      "80         30    159       182     319.2\n",
      "81         45    149       169     344.0\n",
      "82         30    103       139     151.1\n",
      "83        120    100       130     500.0\n",
      "84         45    100       120     225.3\n",
      "85         30    151       170     300.0\n",
      "86         45    102       136     234.0\n",
      "87        120    100       157    1000.1\n",
      "88         45    129       103     242.0\n",
      "89         20     83       107      50.3\n",
      "90        180    101       127     600.1\n",
      "91         45    107       137       NaN\n",
      "92         30     90       107     105.3\n",
      "93         15     80       100      50.5\n",
      "94         20    150       171     127.4\n",
      "95         20    151       168     229.4\n",
      "96         30     95       128     128.2\n",
      "97         25    152       168     244.2\n",
      "98         30    109       131     188.2\n",
      "99         90     93       124     604.1\n",
      "100        20     95       112      77.7\n",
      "101        90     90       110     500.0\n",
      "102        90     90       100     500.0\n",
      "103        90     90       100     500.4\n",
      "104        30     92       108      92.7\n",
      "105        30     93       128     124.0\n",
      "106       180     90       120     800.3\n",
      "107        30     90       120      86.2\n",
      "108        90     90       120     500.3\n",
      "109       210    137       184    1860.4\n",
      "110        60    102       124     325.2\n",
      "111        45    107       124     275.0\n",
      "112        15    124       139     124.2\n",
      "113        45    100       120     225.3\n",
      "114        60    108       131     367.6\n",
      "115        60    108       151     351.7\n",
      "116        60    116       141     443.0\n",
      "117        60     97       122     277.4\n",
      "118        60    105       125       NaN\n",
      "119        60    103       124     332.7\n",
      "120        30    112       137     193.9\n",
      "121        45    100       120     100.7\n",
      "122        60    119       169     336.7\n",
      "123        60    107       127     344.9\n",
      "124        60    111       151     368.5\n",
      "125        60     98       122     271.0\n",
      "126        60     97       124     275.3\n",
      "127        60    109       127     382.0\n",
      "128        90     99       125     466.4\n",
      "129        60    114       151     384.0\n",
      "130        60    104       134     342.5\n",
      "131        60    107       138     357.5\n",
      "132        60    103       133     335.0\n",
      "133        60    106       132     327.5\n",
      "134        60    103       136     339.0\n",
      "135        20    136       156     189.0\n",
      "136        45    117       143     317.7\n",
      "137        45    115       137     318.0\n",
      "138        45    113       138     308.0\n",
      "139        20    141       162     222.4\n",
      "140        60    108       135     390.0\n",
      "141        60     97       127       NaN\n",
      "142        45    100       120     250.4\n",
      "143        45    122       149     335.4\n",
      "144        60    136       170     470.2\n",
      "145        45    106       126     270.8\n",
      "146        60    107       136     400.0\n",
      "147        60    112       146     361.9\n",
      "148        30    103       127     185.0\n",
      "149        60    110       150     409.4\n",
      "150        60    106       134     343.0\n",
      "151        60    109       129     353.2\n",
      "152        60    109       138     374.0\n",
      "153        30    150       167     275.8\n",
      "154        60    105       128     328.0\n",
      "155        60    111       151     368.5\n",
      "156        60     97       131     270.4\n",
      "157        60    100       120     270.4\n",
      "158        60    114       150     382.8\n",
      "159        30     80       120     240.9\n",
      "160        30     85       120     250.4\n",
      "161        45     90       130     260.4\n",
      "162        45     95       130     270.0\n",
      "163        45    100       140     280.9\n",
      "164        60    105       140     290.8\n",
      "165        60    110       145     300.0\n",
      "166        60    115       145     310.2\n",
      "167        75    120       150     320.4\n",
      "168        75    125       150     330.4\n"
     ]
    }
   ],
   "source": [
    "df2 = pd.read_csv('data.csv')\n",
    "\n",
    "print(df2.to_string()) "
   ]
  },
  {
   "cell_type": "code",
   "execution_count": 91,
   "metadata": {},
   "outputs": [
    {
     "data": {
      "text/html": [
       "<div>\n",
       "<style scoped>\n",
       "    .dataframe tbody tr th:only-of-type {\n",
       "        vertical-align: middle;\n",
       "    }\n",
       "\n",
       "    .dataframe tbody tr th {\n",
       "        vertical-align: top;\n",
       "    }\n",
       "\n",
       "    .dataframe thead th {\n",
       "        text-align: right;\n",
       "    }\n",
       "</style>\n",
       "<table border=\"1\" class=\"dataframe\">\n",
       "  <thead>\n",
       "    <tr style=\"text-align: right;\">\n",
       "      <th></th>\n",
       "      <th>Duration</th>\n",
       "      <th>Pulse</th>\n",
       "      <th>Maxpulse</th>\n",
       "      <th>Calories</th>\n",
       "    </tr>\n",
       "  </thead>\n",
       "  <tbody>\n",
       "    <tr>\n",
       "      <th>0</th>\n",
       "      <td>60</td>\n",
       "      <td>110</td>\n",
       "      <td>130</td>\n",
       "      <td>409.1</td>\n",
       "    </tr>\n",
       "    <tr>\n",
       "      <th>1</th>\n",
       "      <td>60</td>\n",
       "      <td>117</td>\n",
       "      <td>145</td>\n",
       "      <td>479.0</td>\n",
       "    </tr>\n",
       "    <tr>\n",
       "      <th>2</th>\n",
       "      <td>60</td>\n",
       "      <td>103</td>\n",
       "      <td>135</td>\n",
       "      <td>340.0</td>\n",
       "    </tr>\n",
       "    <tr>\n",
       "      <th>3</th>\n",
       "      <td>45</td>\n",
       "      <td>109</td>\n",
       "      <td>175</td>\n",
       "      <td>282.4</td>\n",
       "    </tr>\n",
       "    <tr>\n",
       "      <th>4</th>\n",
       "      <td>45</td>\n",
       "      <td>117</td>\n",
       "      <td>148</td>\n",
       "      <td>406.0</td>\n",
       "    </tr>\n",
       "    <tr>\n",
       "      <th>5</th>\n",
       "      <td>60</td>\n",
       "      <td>102</td>\n",
       "      <td>127</td>\n",
       "      <td>300.0</td>\n",
       "    </tr>\n",
       "    <tr>\n",
       "      <th>6</th>\n",
       "      <td>60</td>\n",
       "      <td>110</td>\n",
       "      <td>136</td>\n",
       "      <td>374.0</td>\n",
       "    </tr>\n",
       "    <tr>\n",
       "      <th>7</th>\n",
       "      <td>45</td>\n",
       "      <td>104</td>\n",
       "      <td>134</td>\n",
       "      <td>253.3</td>\n",
       "    </tr>\n",
       "    <tr>\n",
       "      <th>8</th>\n",
       "      <td>30</td>\n",
       "      <td>109</td>\n",
       "      <td>133</td>\n",
       "      <td>195.1</td>\n",
       "    </tr>\n",
       "    <tr>\n",
       "      <th>9</th>\n",
       "      <td>60</td>\n",
       "      <td>98</td>\n",
       "      <td>124</td>\n",
       "      <td>269.0</td>\n",
       "    </tr>\n",
       "  </tbody>\n",
       "</table>\n",
       "</div>"
      ],
      "text/plain": [
       "   Duration  Pulse  Maxpulse  Calories\n",
       "0        60    110       130     409.1\n",
       "1        60    117       145     479.0\n",
       "2        60    103       135     340.0\n",
       "3        45    109       175     282.4\n",
       "4        45    117       148     406.0\n",
       "5        60    102       127     300.0\n",
       "6        60    110       136     374.0\n",
       "7        45    104       134     253.3\n",
       "8        30    109       133     195.1\n",
       "9        60     98       124     269.0"
      ]
     },
     "execution_count": 91,
     "metadata": {},
     "output_type": "execute_result"
    }
   ],
   "source": [
    "df2.head(10)"
   ]
  },
  {
   "cell_type": "code",
   "execution_count": 95,
   "metadata": {},
   "outputs": [
    {
     "data": {
      "text/html": [
       "<div>\n",
       "<style scoped>\n",
       "    .dataframe tbody tr th:only-of-type {\n",
       "        vertical-align: middle;\n",
       "    }\n",
       "\n",
       "    .dataframe tbody tr th {\n",
       "        vertical-align: top;\n",
       "    }\n",
       "\n",
       "    .dataframe thead th {\n",
       "        text-align: right;\n",
       "    }\n",
       "</style>\n",
       "<table border=\"1\" class=\"dataframe\">\n",
       "  <thead>\n",
       "    <tr style=\"text-align: right;\">\n",
       "      <th></th>\n",
       "      <th>Duration</th>\n",
       "      <th>Pulse</th>\n",
       "      <th>Maxpulse</th>\n",
       "      <th>Calories</th>\n",
       "    </tr>\n",
       "  </thead>\n",
       "  <tbody>\n",
       "    <tr>\n",
       "      <th>159</th>\n",
       "      <td>30</td>\n",
       "      <td>80</td>\n",
       "      <td>120</td>\n",
       "      <td>240.9</td>\n",
       "    </tr>\n",
       "    <tr>\n",
       "      <th>160</th>\n",
       "      <td>30</td>\n",
       "      <td>85</td>\n",
       "      <td>120</td>\n",
       "      <td>250.4</td>\n",
       "    </tr>\n",
       "    <tr>\n",
       "      <th>161</th>\n",
       "      <td>45</td>\n",
       "      <td>90</td>\n",
       "      <td>130</td>\n",
       "      <td>260.4</td>\n",
       "    </tr>\n",
       "    <tr>\n",
       "      <th>162</th>\n",
       "      <td>45</td>\n",
       "      <td>95</td>\n",
       "      <td>130</td>\n",
       "      <td>270.0</td>\n",
       "    </tr>\n",
       "    <tr>\n",
       "      <th>163</th>\n",
       "      <td>45</td>\n",
       "      <td>100</td>\n",
       "      <td>140</td>\n",
       "      <td>280.9</td>\n",
       "    </tr>\n",
       "    <tr>\n",
       "      <th>164</th>\n",
       "      <td>60</td>\n",
       "      <td>105</td>\n",
       "      <td>140</td>\n",
       "      <td>290.8</td>\n",
       "    </tr>\n",
       "    <tr>\n",
       "      <th>165</th>\n",
       "      <td>60</td>\n",
       "      <td>110</td>\n",
       "      <td>145</td>\n",
       "      <td>300.0</td>\n",
       "    </tr>\n",
       "    <tr>\n",
       "      <th>166</th>\n",
       "      <td>60</td>\n",
       "      <td>115</td>\n",
       "      <td>145</td>\n",
       "      <td>310.2</td>\n",
       "    </tr>\n",
       "    <tr>\n",
       "      <th>167</th>\n",
       "      <td>75</td>\n",
       "      <td>120</td>\n",
       "      <td>150</td>\n",
       "      <td>320.4</td>\n",
       "    </tr>\n",
       "    <tr>\n",
       "      <th>168</th>\n",
       "      <td>75</td>\n",
       "      <td>125</td>\n",
       "      <td>150</td>\n",
       "      <td>330.4</td>\n",
       "    </tr>\n",
       "  </tbody>\n",
       "</table>\n",
       "</div>"
      ],
      "text/plain": [
       "     Duration  Pulse  Maxpulse  Calories\n",
       "159        30     80       120     240.9\n",
       "160        30     85       120     250.4\n",
       "161        45     90       130     260.4\n",
       "162        45     95       130     270.0\n",
       "163        45    100       140     280.9\n",
       "164        60    105       140     290.8\n",
       "165        60    110       145     300.0\n",
       "166        60    115       145     310.2\n",
       "167        75    120       150     320.4\n",
       "168        75    125       150     330.4"
      ]
     },
     "execution_count": 95,
     "metadata": {},
     "output_type": "execute_result"
    }
   ],
   "source": [
    "df2.tail(10)"
   ]
  },
  {
   "cell_type": "code",
   "execution_count": 96,
   "metadata": {},
   "outputs": [
    {
     "name": "stdout",
     "output_type": "stream",
     "text": [
      "<class 'pandas.core.frame.DataFrame'>\n",
      "RangeIndex: 169 entries, 0 to 168\n",
      "Data columns (total 4 columns):\n",
      " #   Column    Non-Null Count  Dtype  \n",
      "---  ------    --------------  -----  \n",
      " 0   Duration  169 non-null    int64  \n",
      " 1   Pulse     169 non-null    int64  \n",
      " 2   Maxpulse  169 non-null    int64  \n",
      " 3   Calories  164 non-null    float64\n",
      "dtypes: float64(1), int64(3)\n",
      "memory usage: 5.4 KB\n"
     ]
    }
   ],
   "source": [
    "df2.info()"
   ]
  },
  {
   "cell_type": "markdown",
   "metadata": {},
   "source": [
    "#### Un poco de data Cleaning"
   ]
  },
  {
   "cell_type": "code",
   "execution_count": 97,
   "metadata": {},
   "outputs": [],
   "source": [
    "new_df = df2.dropna()  # Elimina los valores no definidos. "
   ]
  },
  {
   "cell_type": "code",
   "execution_count": 99,
   "metadata": {},
   "outputs": [
    {
     "name": "stdout",
     "output_type": "stream",
     "text": [
      "     Duration  Pulse  Maxpulse  Calories\n",
      "0          60    110       130     409.1\n",
      "1          60    117       145     479.0\n",
      "2          60    103       135     340.0\n",
      "3          45    109       175     282.4\n",
      "4          45    117       148     406.0\n",
      "5          60    102       127     300.0\n",
      "6          60    110       136     374.0\n",
      "7          45    104       134     253.3\n",
      "8          30    109       133     195.1\n",
      "9          60     98       124     269.0\n",
      "10         60    103       147     329.3\n",
      "11         60    100       120     250.7\n",
      "12         60    106       128     345.3\n",
      "13         60    104       132     379.3\n",
      "14         60     98       123     275.0\n",
      "15         60     98       120     215.2\n",
      "16         60    100       120     300.0\n",
      "18         60    103       123     323.0\n",
      "19         45     97       125     243.0\n",
      "20         60    108       131     364.2\n",
      "21         45    100       119     282.0\n",
      "22         60    130       101     300.0\n",
      "23         45    105       132     246.0\n",
      "24         60    102       126     334.5\n",
      "25         60    100       120     250.0\n",
      "26         60     92       118     241.0\n",
      "28         60    100       132     280.0\n",
      "29         60    102       129     380.3\n",
      "30         60     92       115     243.0\n",
      "31         45     90       112     180.1\n",
      "32         60    101       124     299.0\n",
      "33         60     93       113     223.0\n",
      "34         60    107       136     361.0\n",
      "35         60    114       140     415.0\n",
      "36         60    102       127     300.0\n",
      "37         60    100       120     300.0\n",
      "38         60    100       120     300.0\n",
      "39         45    104       129     266.0\n",
      "40         45     90       112     180.1\n",
      "41         60     98       126     286.0\n",
      "42         60    100       122     329.4\n",
      "43         60    111       138     400.0\n",
      "44         60    111       131     397.0\n",
      "45         60     99       119     273.0\n",
      "46         60    109       153     387.6\n",
      "47         45    111       136     300.0\n",
      "48         45    108       129     298.0\n",
      "49         60    111       139     397.6\n",
      "50         60    107       136     380.2\n",
      "51         80    123       146     643.1\n",
      "52         60    106       130     263.0\n",
      "53         60    118       151     486.0\n",
      "54         30    136       175     238.0\n",
      "55         60    121       146     450.7\n",
      "56         60    118       121     413.0\n",
      "57         45    115       144     305.0\n",
      "58         20    153       172     226.4\n",
      "59         45    123       152     321.0\n",
      "60        210    108       160    1376.0\n",
      "61        160    110       137    1034.4\n",
      "62        160    109       135     853.0\n",
      "63         45    118       141     341.0\n",
      "64         20    110       130     131.4\n",
      "65        180     90       130     800.4\n",
      "66        150    105       135     873.4\n",
      "67        150    107       130     816.0\n",
      "68         20    106       136     110.4\n",
      "69        300    108       143    1500.2\n",
      "70        150     97       129    1115.0\n",
      "71         60    109       153     387.6\n",
      "72         90    100       127     700.0\n",
      "73        150     97       127     953.2\n",
      "74         45    114       146     304.0\n",
      "75         90     98       125     563.2\n",
      "76         45    105       134     251.0\n",
      "77         45    110       141     300.0\n",
      "78        120    100       130     500.4\n",
      "79        270    100       131    1729.0\n",
      "80         30    159       182     319.2\n",
      "81         45    149       169     344.0\n",
      "82         30    103       139     151.1\n",
      "83        120    100       130     500.0\n",
      "84         45    100       120     225.3\n",
      "85         30    151       170     300.0\n",
      "86         45    102       136     234.0\n",
      "87        120    100       157    1000.1\n",
      "88         45    129       103     242.0\n",
      "89         20     83       107      50.3\n",
      "90        180    101       127     600.1\n",
      "92         30     90       107     105.3\n",
      "93         15     80       100      50.5\n",
      "94         20    150       171     127.4\n",
      "95         20    151       168     229.4\n",
      "96         30     95       128     128.2\n",
      "97         25    152       168     244.2\n",
      "98         30    109       131     188.2\n",
      "99         90     93       124     604.1\n",
      "100        20     95       112      77.7\n",
      "101        90     90       110     500.0\n",
      "102        90     90       100     500.0\n",
      "103        90     90       100     500.4\n",
      "104        30     92       108      92.7\n",
      "105        30     93       128     124.0\n",
      "106       180     90       120     800.3\n",
      "107        30     90       120      86.2\n",
      "108        90     90       120     500.3\n",
      "109       210    137       184    1860.4\n",
      "110        60    102       124     325.2\n",
      "111        45    107       124     275.0\n",
      "112        15    124       139     124.2\n",
      "113        45    100       120     225.3\n",
      "114        60    108       131     367.6\n",
      "115        60    108       151     351.7\n",
      "116        60    116       141     443.0\n",
      "117        60     97       122     277.4\n",
      "119        60    103       124     332.7\n",
      "120        30    112       137     193.9\n",
      "121        45    100       120     100.7\n",
      "122        60    119       169     336.7\n",
      "123        60    107       127     344.9\n",
      "124        60    111       151     368.5\n",
      "125        60     98       122     271.0\n",
      "126        60     97       124     275.3\n",
      "127        60    109       127     382.0\n",
      "128        90     99       125     466.4\n",
      "129        60    114       151     384.0\n",
      "130        60    104       134     342.5\n",
      "131        60    107       138     357.5\n",
      "132        60    103       133     335.0\n",
      "133        60    106       132     327.5\n",
      "134        60    103       136     339.0\n",
      "135        20    136       156     189.0\n",
      "136        45    117       143     317.7\n",
      "137        45    115       137     318.0\n",
      "138        45    113       138     308.0\n",
      "139        20    141       162     222.4\n",
      "140        60    108       135     390.0\n",
      "142        45    100       120     250.4\n",
      "143        45    122       149     335.4\n",
      "144        60    136       170     470.2\n",
      "145        45    106       126     270.8\n",
      "146        60    107       136     400.0\n",
      "147        60    112       146     361.9\n",
      "148        30    103       127     185.0\n",
      "149        60    110       150     409.4\n",
      "150        60    106       134     343.0\n",
      "151        60    109       129     353.2\n",
      "152        60    109       138     374.0\n",
      "153        30    150       167     275.8\n",
      "154        60    105       128     328.0\n",
      "155        60    111       151     368.5\n",
      "156        60     97       131     270.4\n",
      "157        60    100       120     270.4\n",
      "158        60    114       150     382.8\n",
      "159        30     80       120     240.9\n",
      "160        30     85       120     250.4\n",
      "161        45     90       130     260.4\n",
      "162        45     95       130     270.0\n",
      "163        45    100       140     280.9\n",
      "164        60    105       140     290.8\n",
      "165        60    110       145     300.0\n",
      "166        60    115       145     310.2\n",
      "167        75    120       150     320.4\n",
      "168        75    125       150     330.4\n"
     ]
    }
   ],
   "source": [
    "print(new_df.to_string())"
   ]
  },
  {
   "cell_type": "code",
   "execution_count": 101,
   "metadata": {},
   "outputs": [
    {
     "name": "stdout",
     "output_type": "stream",
     "text": [
      "mean calories is  375.79024390243916\n"
     ]
    }
   ],
   "source": [
    "x = new_df[\"Calories\"].mean()\n",
    "print(\"mean calories is \",x)"
   ]
  },
  {
   "cell_type": "code",
   "execution_count": 102,
   "metadata": {},
   "outputs": [
    {
     "name": "stdout",
     "output_type": "stream",
     "text": [
      "0      False\n",
      "1      False\n",
      "2      False\n",
      "3      False\n",
      "4      False\n",
      "       ...  \n",
      "164    False\n",
      "165    False\n",
      "166    False\n",
      "167    False\n",
      "168    False\n",
      "Length: 164, dtype: bool\n"
     ]
    }
   ],
   "source": [
    "print(new_df.duplicated())"
   ]
  },
  {
   "cell_type": "code",
   "execution_count": 105,
   "metadata": {},
   "outputs": [
    {
     "data": {
      "text/plain": [
       "<AxesSubplot:>"
      ]
     },
     "execution_count": 105,
     "metadata": {},
     "output_type": "execute_result"
    },
    {
     "data": {
      "image/png": "[encoded data removed]",
      "text/plain": [
       "<Figure size 432x288 with 1 Axes>"
      ]
     },
     "metadata": {
      "needs_background": "light"
     },
     "output_type": "display_data"
    }
   ],
   "source": [
    "new_df.plot()"
   ]
  },
  {
   "cell_type": "code",
   "execution_count": 107,
   "metadata": {},
   "outputs": [
    {
     "data": {
      "text/plain": [
       "<AxesSubplot:ylabel='Frequency'>"
      ]
     },
     "execution_count": 107,
     "metadata": {},
     "output_type": "execute_result"
    },
    {
     "data": {
      "image/png": "[encoded data removed]",
      "text/plain": [
       "<Figure size 432x288 with 1 Axes>"
      ]
     },
     "metadata": {
      "needs_background": "light"
     },
     "output_type": "display_data"
    }
   ],
   "source": [
    "new_df[\"Duration\"].plot(kind = 'hist')"
   ]
  },
  {
   "cell_type": "code",
   "execution_count": 108,
   "metadata": {},
   "outputs": [],
   "source": [
    "new_df.to_csv(\"new_df.csv\")"
   ]
  },
  {
   "cell_type": "code",
   "execution_count": null,
   "metadata": {},
   "outputs": [],
   "source": []
  }
 ],
 "metadata": {
  "kernelspec": {
   "display_name": "Python 3",
   "language": "python",
   "name": "python3"
  },
  "language_info": {
   "codemirror_mode": {
    "name": "ipython",
    "version": 3
   },
   "file_extension": ".py",
   "mimetype": "text/x-python",
   "name": "python",
   "nbconvert_exporter": "python",
   "pygments_lexer": "ipython3",
   "version": "3.8.5"
  }
 },
 "nbformat": 4,
 "nbformat_minor": 4
}
